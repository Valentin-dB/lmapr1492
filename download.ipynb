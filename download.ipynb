from pymatgen.ext.matproj import MPRester

with MPRester("qSvDCgTjbfREtdXQwIBl") as m:

    # Structure for material id
    structure = m.get_structure_by_material_id("mp-11869")

    # Dos for material id
    #dos = m.get_dos_by_material_id("mp-11869")

    # Bandstructure for material id
    #bandstructure = m.get_bandstructure_by_material_id("mp-11869")

structure.to(filename="HfSnPd.cif")
