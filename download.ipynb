{
 "cells": [
  {
   "cell_type": "code",
   "execution_count": 1,
   "id": "edb35330",
   "metadata": {},
   "outputs": [],
   "source": [
    "from pymatgen.ext.matproj import MPRester\n",
    "\n",
    "API_KEY = \"qSvDCgTjbfREtdXQwIBl\"\n",
    "material_id = \"mp-11869\"\n",
    "\n",
    "\n",
    "def download(material_id, API_KEY, file_name = None) :\n",
    "    with MPRester(API_KEY) as m:\n",
    "        # Structure for material id\n",
    "        structure = m.get_structure_by_material_id(material_id)\n",
    "    if file_name != None :\n",
    "        structure.to(filename=file_name)\n",
    "    return structure\n",
    "\n",
    "\n",
    "structure = download(material_id, API_KEY,file_name=\"HfSnPd.cif\")"
   ]
  }
 ],
 "metadata": {
  "kernelspec": {
   "display_name": "Python 3",
   "language": "python",
   "name": "python3"
  },
  "language_info": {
   "codemirror_mode": {
    "name": "ipython",
    "version": 3
   },
   "file_extension": ".py",
   "mimetype": "text/x-python",
   "name": "python",
   "nbconvert_exporter": "python",
   "pygments_lexer": "ipython3",
   "version": "3.6.8"
  }
 },
 "nbformat": 4,
 "nbformat_minor": 5
}
