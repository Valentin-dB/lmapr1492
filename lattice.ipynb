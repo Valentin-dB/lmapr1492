{
 "cells": [
  {
   "cell_type": "code",
   "execution_count": 19,
   "id": "6ec85615",
   "metadata": {},
   "outputs": [],
   "source": [
    "from pymatgen.ext.matproj import MPRester\n",
    "from pymatgen.symmetry.analyzer import SpacegroupAnalyzer\n",
    "\n",
    "API_KEY = \"qSvDCgTjbfREtdXQwIBl\"\n",
    "material_id = \"mp-11869\"\n",
    "\n",
    "\n",
    "def download(material_id, API_KEY, file_name = None) :\n",
    "    with MPRester(API_KEY) as m:\n",
    "        # Structure for material id\n",
    "        structure = m.get_structure_by_material_id(material_id)\n",
    "    if file_name != None :\n",
    "        structure.to(filename=file_name)\n",
    "    return structure\n",
    "\n",
    "def describe(structure, verbose=False) :\n",
    "    direct = structure.lattice\n",
    "    reciproque = structure.lattice.reciprocal_lattice\n",
    "    maille = SpacegroupAnalyzer(structure).get_lattice_type()\n",
    "    sys_cristal = SpacegroupAnalyzer(structure).get_crystal_system()\n",
    "    grp_ponctuel = SpacegroupAnalyzer(structure).get_point_group_symbol()\n",
    "    if verbose :\n",
    "        print(\"Vecteurs de base du réseau direct :\\n\\n\"+str(direct),\"\\n\")\n",
    "        print(\"Vecteurs de base du réseau réciproque :\\n\\n\"+str(reciproque),\"\\n\")\n",
    "        print(\"Type de maille     :\",maille)\n",
    "        print(\"Système cristallin :\",sys_cristal)\n",
    "        print(\"Groupe ponctuel    :\", grp_ponctuel)\n",
    "    return direct, reciproque, maille, sys_cristal, grp_ponctuel"
   ]
  },
  {
   "cell_type": "code",
   "execution_count": 20,
   "id": "7e38cd8d",
   "metadata": {},
   "outputs": [
    {
     "name": "stdout",
     "output_type": "stream",
     "text": [
      "Vecteurs de base du réseau direct :\n",
      "\n",
      "0.000000 3.181753 3.181753\n",
      "3.181753 0.000000 3.181753\n",
      "3.181753 3.181753 0.000000 \n",
      "\n",
      "Vecteurs de base du réseau réciproque :\n",
      "\n",
      "-0.987378 0.987378 0.987378\n",
      "0.987378 -0.987378 0.987378\n",
      "0.987378 0.987378 -0.987378 \n",
      "\n",
      "Type de maille     : cubic\n",
      "Système cristallin : cubic\n",
      "Groupe ponctuel    : -43m\n"
     ]
    }
   ],
   "source": [
    "structure = download(material_id, API_KEY, file_name = \"HfSnPd.cif\")\n",
    "direct, reciproque, maille, sys_cristal, grp_ponctuel = describe(structure, verbose=True)"
   ]
  },
  {
   "cell_type": "code",
   "execution_count": null,
   "id": "2b96b743",
   "metadata": {},
   "outputs": [],
   "source": []
  }
 ],
 "metadata": {
  "kernelspec": {
   "display_name": "Python 3",
   "language": "python",
   "name": "python3"
  },
  "language_info": {
   "codemirror_mode": {
    "name": "ipython",
    "version": 3
   },
   "file_extension": ".py",
   "mimetype": "text/x-python",
   "name": "python",
   "nbconvert_exporter": "python",
   "pygments_lexer": "ipython3",
   "version": "3.6.8"
  }
 },
 "nbformat": 4,
 "nbformat_minor": 5
}
