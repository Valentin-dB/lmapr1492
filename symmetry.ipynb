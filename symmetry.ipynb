{
 "cells": [
  {
   "cell_type": "code",
   "execution_count": 5,
   "id": "3b004135",
   "metadata": {},
   "outputs": [],
   "source": [
    "from pymatgen.ext.matproj import MPRester\n",
    "from pymatgen import Structure\n",
    "from jupyter_jsmol.pymatgen import quick_view"
   ]
  },
  {
   "cell_type": "code",
   "execution_count": 6,
   "id": "51cca73a",
   "metadata": {},
   "outputs": [
    {
     "data": {
      "application/vnd.jupyter.widget-view+json": {
       "model_id": "fab2528886be49d2b86b564efe097127",
       "version_major": 2,
       "version_minor": 0
      },
      "text/plain": [
       "JsmolView(layout=Layout(align_self='stretch', height='400px'))"
      ]
     },
     "metadata": {},
     "output_type": "display_data"
    }
   ],
   "source": [
    "with MPRester(\"qSvDCgTjbfREtdXQwIBl\") as m:\n",
    "\n",
    "    # Structure for material id\n",
    "    structure = m.get_structure_by_material_id(\"mp-11869\")\n",
    "\n",
    "view = quick_view(structure)\n",
    "display(view)"
   ]
  },
  {
   "cell_type": "markdown",
   "id": "8d4ea2fd",
   "metadata": {},
   "source": [
    "Par souci de clarté, précisons ici que nous travaillons dans la maille conventionnelle.\n",
    "\n",
    "La première opération de symmétrie est une roto-réflexion d'ordre 4 parallèle à l'axe des z, qui envois (x, y, z) vers (y, -x, -z). Nous l'appliquons ici sur le premier atome d'étain (situé en (0,0,1/2)). Celui-ci est bien renvoyé sur une position équivalente, celle qu'il occupait avant l'opération mais dans une maille différente."
   ]
  },
  {
   "cell_type": "code",
   "execution_count": 7,
   "id": "14e30e55",
   "metadata": {},
   "outputs": [],
   "source": [
    "view.script('draw symop 2 {atomno=2}')"
   ]
  },
  {
   "cell_type": "markdown",
   "id": "93235db4",
   "metadata": {},
   "source": [
    "La seconde opération de symmétrie est une rotation d'ordre 3 selon la diagonale, qui envois (x, y, z) vers (z, x, y). Nous l'appliquons ici sur le premier atome de palladium (situé en (1/4,1/4,3/4)). Celui-ci est bien renvoyé sur une position équivalente, cette fois-ci dans la même maille."
   ]
  },
  {
   "cell_type": "code",
   "execution_count": 8,
   "id": "39da7893",
   "metadata": {},
   "outputs": [],
   "source": [
    "view.script('draw symop 9 {atomno=3}')"
   ]
  },
  {
   "cell_type": "markdown",
   "id": "1f301d24",
   "metadata": {},
   "source": [
    "La troisième opération de symmétrie étudiée est une réfléxion selon le plan [1,0,1], qui envois (x, y, z) vers (1-z, y, 1-x), ou de manière équivalente sur (-z, y, -x). Nous l'appliquons ici sur le premier atome de hafnium (situé en (0,0,0)). Celui-ci est bien renvoyé sur une position équivalente, celle qu'il occupait avant l'opération mais dans une maille différente."
   ]
  },
  {
   "cell_type": "code",
   "execution_count": 9,
   "id": "06d57a64",
   "metadata": {},
   "outputs": [],
   "source": [
    "view.script('draw symop 10 {atomno=1}')"
   ]
  },
  {
   "cell_type": "markdown",
   "id": "c1337ef1",
   "metadata": {},
   "source": [
    "Malheureusement, un souci technique m'empêche d'afficher les résultats correctement. Cependant, le code devrait fonctionner et afficher les bons graphiques si vous l'éxécutez."
   ]
  }
 ],
 "metadata": {
  "kernelspec": {
   "display_name": "Python 3",
   "language": "python",
   "name": "python3"
  },
  "language_info": {
   "codemirror_mode": {
    "name": "ipython",
    "version": 3
   },
   "file_extension": ".py",
   "mimetype": "text/x-python",
   "name": "python",
   "nbconvert_exporter": "python",
   "pygments_lexer": "ipython3",
   "version": "3.6.8"
  }
 },
 "nbformat": 4,
 "nbformat_minor": 5
}
